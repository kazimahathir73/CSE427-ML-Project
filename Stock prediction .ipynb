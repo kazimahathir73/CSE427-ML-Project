{
 "cells": [
  {
   "cell_type": "markdown",
   "id": "90c0a08b",
   "metadata": {},
   "source": [
    "# Importing the dataset"
   ]
  },
  {
   "cell_type": "code",
   "execution_count": 1,
   "id": "b193c51e",
   "metadata": {},
   "outputs": [],
   "source": [
    "import yfinance as yf\n",
    "import matplotlib.pyplot as plt\n",
    "import pandas as pd\n",
    "import numpy as np"
   ]
  },
  {
   "cell_type": "code",
   "execution_count": 2,
   "id": "ce50b1f3",
   "metadata": {},
   "outputs": [
    {
     "data": {
      "text/html": [
       "<div>\n",
       "<style scoped>\n",
       "    .dataframe tbody tr th:only-of-type {\n",
       "        vertical-align: middle;\n",
       "    }\n",
       "\n",
       "    .dataframe tbody tr th {\n",
       "        vertical-align: top;\n",
       "    }\n",
       "\n",
       "    .dataframe thead th {\n",
       "        text-align: right;\n",
       "    }\n",
       "</style>\n",
       "<table border=\"1\" class=\"dataframe\">\n",
       "  <thead>\n",
       "    <tr style=\"text-align: right;\">\n",
       "      <th></th>\n",
       "      <th>Open</th>\n",
       "      <th>High</th>\n",
       "      <th>Low</th>\n",
       "      <th>Close</th>\n",
       "      <th>Volume</th>\n",
       "      <th>Dividends</th>\n",
       "      <th>Stock Splits</th>\n",
       "    </tr>\n",
       "    <tr>\n",
       "      <th>Date</th>\n",
       "      <th></th>\n",
       "      <th></th>\n",
       "      <th></th>\n",
       "      <th></th>\n",
       "      <th></th>\n",
       "      <th></th>\n",
       "      <th></th>\n",
       "    </tr>\n",
       "  </thead>\n",
       "  <tbody>\n",
       "    <tr>\n",
       "      <th>1980-01-02 00:00:00-05:00</th>\n",
       "      <td>0.000000</td>\n",
       "      <td>108.430000</td>\n",
       "      <td>105.290001</td>\n",
       "      <td>105.760002</td>\n",
       "      <td>40610000</td>\n",
       "      <td>0.0</td>\n",
       "      <td>0.0</td>\n",
       "    </tr>\n",
       "    <tr>\n",
       "      <th>1980-01-03 00:00:00-05:00</th>\n",
       "      <td>0.000000</td>\n",
       "      <td>106.080002</td>\n",
       "      <td>103.260002</td>\n",
       "      <td>105.220001</td>\n",
       "      <td>50480000</td>\n",
       "      <td>0.0</td>\n",
       "      <td>0.0</td>\n",
       "    </tr>\n",
       "    <tr>\n",
       "      <th>1980-01-04 00:00:00-05:00</th>\n",
       "      <td>0.000000</td>\n",
       "      <td>107.080002</td>\n",
       "      <td>105.089996</td>\n",
       "      <td>106.519997</td>\n",
       "      <td>39130000</td>\n",
       "      <td>0.0</td>\n",
       "      <td>0.0</td>\n",
       "    </tr>\n",
       "    <tr>\n",
       "      <th>1980-01-07 00:00:00-05:00</th>\n",
       "      <td>0.000000</td>\n",
       "      <td>107.800003</td>\n",
       "      <td>105.800003</td>\n",
       "      <td>106.809998</td>\n",
       "      <td>44500000</td>\n",
       "      <td>0.0</td>\n",
       "      <td>0.0</td>\n",
       "    </tr>\n",
       "    <tr>\n",
       "      <th>1980-01-08 00:00:00-05:00</th>\n",
       "      <td>0.000000</td>\n",
       "      <td>109.290001</td>\n",
       "      <td>106.290001</td>\n",
       "      <td>108.949997</td>\n",
       "      <td>53390000</td>\n",
       "      <td>0.0</td>\n",
       "      <td>0.0</td>\n",
       "    </tr>\n",
       "    <tr>\n",
       "      <th>...</th>\n",
       "      <td>...</td>\n",
       "      <td>...</td>\n",
       "      <td>...</td>\n",
       "      <td>...</td>\n",
       "      <td>...</td>\n",
       "      <td>...</td>\n",
       "      <td>...</td>\n",
       "    </tr>\n",
       "    <tr>\n",
       "      <th>2023-09-13 00:00:00-04:00</th>\n",
       "      <td>4462.649902</td>\n",
       "      <td>4479.390137</td>\n",
       "      <td>4453.520020</td>\n",
       "      <td>4467.439941</td>\n",
       "      <td>3529430000</td>\n",
       "      <td>0.0</td>\n",
       "      <td>0.0</td>\n",
       "    </tr>\n",
       "    <tr>\n",
       "      <th>2023-09-14 00:00:00-04:00</th>\n",
       "      <td>4487.779785</td>\n",
       "      <td>4511.990234</td>\n",
       "      <td>4478.689941</td>\n",
       "      <td>4505.100098</td>\n",
       "      <td>3648720000</td>\n",
       "      <td>0.0</td>\n",
       "      <td>0.0</td>\n",
       "    </tr>\n",
       "    <tr>\n",
       "      <th>2023-09-15 00:00:00-04:00</th>\n",
       "      <td>4497.979980</td>\n",
       "      <td>4497.979980</td>\n",
       "      <td>4447.209961</td>\n",
       "      <td>4450.319824</td>\n",
       "      <td>6932230000</td>\n",
       "      <td>0.0</td>\n",
       "      <td>0.0</td>\n",
       "    </tr>\n",
       "    <tr>\n",
       "      <th>2023-09-18 00:00:00-04:00</th>\n",
       "      <td>4445.129883</td>\n",
       "      <td>4466.359863</td>\n",
       "      <td>4442.109863</td>\n",
       "      <td>4453.529785</td>\n",
       "      <td>3161230000</td>\n",
       "      <td>0.0</td>\n",
       "      <td>0.0</td>\n",
       "    </tr>\n",
       "    <tr>\n",
       "      <th>2023-09-19 00:00:00-04:00</th>\n",
       "      <td>4445.410156</td>\n",
       "      <td>4449.850098</td>\n",
       "      <td>4416.609863</td>\n",
       "      <td>4443.950195</td>\n",
       "      <td>3614880000</td>\n",
       "      <td>0.0</td>\n",
       "      <td>0.0</td>\n",
       "    </tr>\n",
       "  </tbody>\n",
       "</table>\n",
       "<p>11022 rows × 7 columns</p>\n",
       "</div>"
      ],
      "text/plain": [
       "                                  Open         High          Low        Close  \\\n",
       "Date                                                                            \n",
       "1980-01-02 00:00:00-05:00     0.000000   108.430000   105.290001   105.760002   \n",
       "1980-01-03 00:00:00-05:00     0.000000   106.080002   103.260002   105.220001   \n",
       "1980-01-04 00:00:00-05:00     0.000000   107.080002   105.089996   106.519997   \n",
       "1980-01-07 00:00:00-05:00     0.000000   107.800003   105.800003   106.809998   \n",
       "1980-01-08 00:00:00-05:00     0.000000   109.290001   106.290001   108.949997   \n",
       "...                                ...          ...          ...          ...   \n",
       "2023-09-13 00:00:00-04:00  4462.649902  4479.390137  4453.520020  4467.439941   \n",
       "2023-09-14 00:00:00-04:00  4487.779785  4511.990234  4478.689941  4505.100098   \n",
       "2023-09-15 00:00:00-04:00  4497.979980  4497.979980  4447.209961  4450.319824   \n",
       "2023-09-18 00:00:00-04:00  4445.129883  4466.359863  4442.109863  4453.529785   \n",
       "2023-09-19 00:00:00-04:00  4445.410156  4449.850098  4416.609863  4443.950195   \n",
       "\n",
       "                               Volume  Dividends  Stock Splits  \n",
       "Date                                                            \n",
       "1980-01-02 00:00:00-05:00    40610000        0.0           0.0  \n",
       "1980-01-03 00:00:00-05:00    50480000        0.0           0.0  \n",
       "1980-01-04 00:00:00-05:00    39130000        0.0           0.0  \n",
       "1980-01-07 00:00:00-05:00    44500000        0.0           0.0  \n",
       "1980-01-08 00:00:00-05:00    53390000        0.0           0.0  \n",
       "...                               ...        ...           ...  \n",
       "2023-09-13 00:00:00-04:00  3529430000        0.0           0.0  \n",
       "2023-09-14 00:00:00-04:00  3648720000        0.0           0.0  \n",
       "2023-09-15 00:00:00-04:00  6932230000        0.0           0.0  \n",
       "2023-09-18 00:00:00-04:00  3161230000        0.0           0.0  \n",
       "2023-09-19 00:00:00-04:00  3614880000        0.0           0.0  \n",
       "\n",
       "[11022 rows x 7 columns]"
      ]
     },
     "execution_count": 2,
     "metadata": {},
     "output_type": "execute_result"
    }
   ],
   "source": [
    "dataset = yf.Ticker('^GSPC')\n",
    "dataset = dataset.history(period=\"max\")\n",
    "dataset = dataset.loc['1980-01-01':]\n",
    "dataset"
   ]
  },
  {
   "cell_type": "markdown",
   "id": "a9a68cf1",
   "metadata": {},
   "source": [
    "# Data preprocessing part"
   ]
  },
  {
   "cell_type": "code",
   "execution_count": 3,
   "id": "d3fe77da",
   "metadata": {},
   "outputs": [
    {
     "data": {
      "text/plain": [
       "[<matplotlib.lines.Line2D at 0x2c55f4599c0>]"
      ]
     },
     "execution_count": 3,
     "metadata": {},
     "output_type": "execute_result"
    },
    {
     "data": {
      "image/png": "[encoded data removed]",
      "text/plain": [
       "<Figure size 640x480 with 1 Axes>"
      ]
     },
     "metadata": {},
     "output_type": "display_data"
    }
   ],
   "source": [
    "x = dataset.index\n",
    "y1 = dataset['Close']\n",
    "y2 = dataset['Open']\n",
    "plt.plot(x,y1)\n",
    "plt.plot(x,y2)"
   ]
  },
  {
   "cell_type": "code",
   "execution_count": 4,
   "id": "3723f6a7",
   "metadata": {
    "scrolled": true
   },
   "outputs": [
    {
     "data": {
      "text/html": [
       "<div>\n",
       "<style scoped>\n",
       "    .dataframe tbody tr th:only-of-type {\n",
       "        vertical-align: middle;\n",
       "    }\n",
       "\n",
       "    .dataframe tbody tr th {\n",
       "        vertical-align: top;\n",
       "    }\n",
       "\n",
       "    .dataframe thead th {\n",
       "        text-align: right;\n",
       "    }\n",
       "</style>\n",
       "<table border=\"1\" class=\"dataframe\">\n",
       "  <thead>\n",
       "    <tr style=\"text-align: right;\">\n",
       "      <th></th>\n",
       "      <th>Open</th>\n",
       "      <th>High</th>\n",
       "      <th>Low</th>\n",
       "      <th>Close</th>\n",
       "      <th>Volume</th>\n",
       "    </tr>\n",
       "    <tr>\n",
       "      <th>Date</th>\n",
       "      <th></th>\n",
       "      <th></th>\n",
       "      <th></th>\n",
       "      <th></th>\n",
       "      <th></th>\n",
       "    </tr>\n",
       "  </thead>\n",
       "  <tbody>\n",
       "    <tr>\n",
       "      <th>1980-01-02 00:00:00-05:00</th>\n",
       "      <td>0.000000</td>\n",
       "      <td>108.430000</td>\n",
       "      <td>105.290001</td>\n",
       "      <td>105.760002</td>\n",
       "      <td>40610000</td>\n",
       "    </tr>\n",
       "    <tr>\n",
       "      <th>1980-01-03 00:00:00-05:00</th>\n",
       "      <td>0.000000</td>\n",
       "      <td>106.080002</td>\n",
       "      <td>103.260002</td>\n",
       "      <td>105.220001</td>\n",
       "      <td>50480000</td>\n",
       "    </tr>\n",
       "    <tr>\n",
       "      <th>1980-01-04 00:00:00-05:00</th>\n",
       "      <td>0.000000</td>\n",
       "      <td>107.080002</td>\n",
       "      <td>105.089996</td>\n",
       "      <td>106.519997</td>\n",
       "      <td>39130000</td>\n",
       "    </tr>\n",
       "    <tr>\n",
       "      <th>1980-01-07 00:00:00-05:00</th>\n",
       "      <td>0.000000</td>\n",
       "      <td>107.800003</td>\n",
       "      <td>105.800003</td>\n",
       "      <td>106.809998</td>\n",
       "      <td>44500000</td>\n",
       "    </tr>\n",
       "    <tr>\n",
       "      <th>1980-01-08 00:00:00-05:00</th>\n",
       "      <td>0.000000</td>\n",
       "      <td>109.290001</td>\n",
       "      <td>106.290001</td>\n",
       "      <td>108.949997</td>\n",
       "      <td>53390000</td>\n",
       "    </tr>\n",
       "    <tr>\n",
       "      <th>...</th>\n",
       "      <td>...</td>\n",
       "      <td>...</td>\n",
       "      <td>...</td>\n",
       "      <td>...</td>\n",
       "      <td>...</td>\n",
       "    </tr>\n",
       "    <tr>\n",
       "      <th>2023-09-13 00:00:00-04:00</th>\n",
       "      <td>4462.649902</td>\n",
       "      <td>4479.390137</td>\n",
       "      <td>4453.520020</td>\n",
       "      <td>4467.439941</td>\n",
       "      <td>3529430000</td>\n",
       "    </tr>\n",
       "    <tr>\n",
       "      <th>2023-09-14 00:00:00-04:00</th>\n",
       "      <td>4487.779785</td>\n",
       "      <td>4511.990234</td>\n",
       "      <td>4478.689941</td>\n",
       "      <td>4505.100098</td>\n",
       "      <td>3648720000</td>\n",
       "    </tr>\n",
       "    <tr>\n",
       "      <th>2023-09-15 00:00:00-04:00</th>\n",
       "      <td>4497.979980</td>\n",
       "      <td>4497.979980</td>\n",
       "      <td>4447.209961</td>\n",
       "      <td>4450.319824</td>\n",
       "      <td>6932230000</td>\n",
       "    </tr>\n",
       "    <tr>\n",
       "      <th>2023-09-18 00:00:00-04:00</th>\n",
       "      <td>4445.129883</td>\n",
       "      <td>4466.359863</td>\n",
       "      <td>4442.109863</td>\n",
       "      <td>4453.529785</td>\n",
       "      <td>3161230000</td>\n",
       "    </tr>\n",
       "    <tr>\n",
       "      <th>2023-09-19 00:00:00-04:00</th>\n",
       "      <td>4445.410156</td>\n",
       "      <td>4449.850098</td>\n",
       "      <td>4416.609863</td>\n",
       "      <td>4443.950195</td>\n",
       "      <td>3614880000</td>\n",
       "    </tr>\n",
       "  </tbody>\n",
       "</table>\n",
       "<p>11022 rows × 5 columns</p>\n",
       "</div>"
      ],
      "text/plain": [
       "                                  Open         High          Low        Close  \\\n",
       "Date                                                                            \n",
       "1980-01-02 00:00:00-05:00     0.000000   108.430000   105.290001   105.760002   \n",
       "1980-01-03 00:00:00-05:00     0.000000   106.080002   103.260002   105.220001   \n",
       "1980-01-04 00:00:00-05:00     0.000000   107.080002   105.089996   106.519997   \n",
       "1980-01-07 00:00:00-05:00     0.000000   107.800003   105.800003   106.809998   \n",
       "1980-01-08 00:00:00-05:00     0.000000   109.290001   106.290001   108.949997   \n",
       "...                                ...          ...          ...          ...   \n",
       "2023-09-13 00:00:00-04:00  4462.649902  4479.390137  4453.520020  4467.439941   \n",
       "2023-09-14 00:00:00-04:00  4487.779785  4511.990234  4478.689941  4505.100098   \n",
       "2023-09-15 00:00:00-04:00  4497.979980  4497.979980  4447.209961  4450.319824   \n",
       "2023-09-18 00:00:00-04:00  4445.129883  4466.359863  4442.109863  4453.529785   \n",
       "2023-09-19 00:00:00-04:00  4445.410156  4449.850098  4416.609863  4443.950195   \n",
       "\n",
       "                               Volume  \n",
       "Date                                   \n",
       "1980-01-02 00:00:00-05:00    40610000  \n",
       "1980-01-03 00:00:00-05:00    50480000  \n",
       "1980-01-04 00:00:00-05:00    39130000  \n",
       "1980-01-07 00:00:00-05:00    44500000  \n",
       "1980-01-08 00:00:00-05:00    53390000  \n",
       "...                               ...  \n",
       "2023-09-13 00:00:00-04:00  3529430000  \n",
       "2023-09-14 00:00:00-04:00  3648720000  \n",
       "2023-09-15 00:00:00-04:00  6932230000  \n",
       "2023-09-18 00:00:00-04:00  3161230000  \n",
       "2023-09-19 00:00:00-04:00  3614880000  \n",
       "\n",
       "[11022 rows x 5 columns]"
      ]
     },
     "execution_count": 4,
     "metadata": {},
     "output_type": "execute_result"
    }
   ],
   "source": [
    "drop_clm = ['Dividends', 'Stock Splits']\n",
    "dataset = dataset.drop(columns=drop_clm, axis=1)\n",
    "dataset"
   ]
  },
  {
   "cell_type": "code",
   "execution_count": 5,
   "id": "5d4d8acc",
   "metadata": {},
   "outputs": [],
   "source": [
    "row_num , clm_num = dataset.shape"
   ]
  },
  {
   "cell_type": "code",
   "execution_count": 6,
   "id": "bab203c6",
   "metadata": {},
   "outputs": [
    {
     "name": "stderr",
     "output_type": "stream",
     "text": [
      "C:\\Users\\Lenovo\\AppData\\Local\\Temp\\ipykernel_6792\\1918500865.py:5: SettingWithCopyWarning: \n",
      "A value is trying to be set on a copy of a slice from a DataFrame\n",
      "\n",
      "See the caveats in the documentation: https://pandas.pydata.org/pandas-docs/stable/user_guide/indexing.html#returning-a-view-versus-a-copy\n",
      "  dataset['Tomorrow_close'][i] = dataset['Close'][i+1]\n",
      "C:\\Users\\Lenovo\\AppData\\Local\\Temp\\ipykernel_6792\\1918500865.py:11: SettingWithCopyWarning: \n",
      "A value is trying to be set on a copy of a slice from a DataFrame\n",
      "\n",
      "See the caveats in the documentation: https://pandas.pydata.org/pandas-docs/stable/user_guide/indexing.html#returning-a-view-versus-a-copy\n",
      "  dataset['Target'][i] = int(0)\n",
      "C:\\Users\\Lenovo\\AppData\\Local\\Temp\\ipykernel_6792\\1918500865.py:9: SettingWithCopyWarning: \n",
      "A value is trying to be set on a copy of a slice from a DataFrame\n",
      "\n",
      "See the caveats in the documentation: https://pandas.pydata.org/pandas-docs/stable/user_guide/indexing.html#returning-a-view-versus-a-copy\n",
      "  dataset['Target'][i] = int(1)\n"
     ]
    }
   ],
   "source": [
    "dataset['Tomorrow_close'] = 0\n",
    "dataset['Target'] = 0\n",
    "\n",
    "for i in range(0,row_num-1):\n",
    "    dataset['Tomorrow_close'][i] = dataset['Close'][i+1]\n",
    "    \n",
    "for i in range(0,row_num):\n",
    "    if dataset['Tomorrow_close'][i] > dataset['Close'][i]:\n",
    "        dataset['Target'][i] = int(1)\n",
    "    else:\n",
    "        dataset['Target'][i] = int(0)"
   ]
  },
  {
   "cell_type": "code",
   "execution_count": 7,
   "id": "ba2954e3",
   "metadata": {},
   "outputs": [
    {
     "data": {
      "text/html": [
       "<div>\n",
       "<style scoped>\n",
       "    .dataframe tbody tr th:only-of-type {\n",
       "        vertical-align: middle;\n",
       "    }\n",
       "\n",
       "    .dataframe tbody tr th {\n",
       "        vertical-align: top;\n",
       "    }\n",
       "\n",
       "    .dataframe thead th {\n",
       "        text-align: right;\n",
       "    }\n",
       "</style>\n",
       "<table border=\"1\" class=\"dataframe\">\n",
       "  <thead>\n",
       "    <tr style=\"text-align: right;\">\n",
       "      <th></th>\n",
       "      <th>Open</th>\n",
       "      <th>High</th>\n",
       "      <th>Low</th>\n",
       "      <th>Close</th>\n",
       "      <th>Volume</th>\n",
       "      <th>Tomorrow_close</th>\n",
       "      <th>Target</th>\n",
       "    </tr>\n",
       "    <tr>\n",
       "      <th>Date</th>\n",
       "      <th></th>\n",
       "      <th></th>\n",
       "      <th></th>\n",
       "      <th></th>\n",
       "      <th></th>\n",
       "      <th></th>\n",
       "      <th></th>\n",
       "    </tr>\n",
       "  </thead>\n",
       "  <tbody>\n",
       "    <tr>\n",
       "      <th>1980-01-02 00:00:00-05:00</th>\n",
       "      <td>0.000000</td>\n",
       "      <td>108.430000</td>\n",
       "      <td>105.290001</td>\n",
       "      <td>105.760002</td>\n",
       "      <td>40610000</td>\n",
       "      <td>105.220001</td>\n",
       "      <td>0</td>\n",
       "    </tr>\n",
       "    <tr>\n",
       "      <th>1980-01-03 00:00:00-05:00</th>\n",
       "      <td>0.000000</td>\n",
       "      <td>106.080002</td>\n",
       "      <td>103.260002</td>\n",
       "      <td>105.220001</td>\n",
       "      <td>50480000</td>\n",
       "      <td>106.519997</td>\n",
       "      <td>1</td>\n",
       "    </tr>\n",
       "    <tr>\n",
       "      <th>1980-01-04 00:00:00-05:00</th>\n",
       "      <td>0.000000</td>\n",
       "      <td>107.080002</td>\n",
       "      <td>105.089996</td>\n",
       "      <td>106.519997</td>\n",
       "      <td>39130000</td>\n",
       "      <td>106.809998</td>\n",
       "      <td>1</td>\n",
       "    </tr>\n",
       "    <tr>\n",
       "      <th>1980-01-07 00:00:00-05:00</th>\n",
       "      <td>0.000000</td>\n",
       "      <td>107.800003</td>\n",
       "      <td>105.800003</td>\n",
       "      <td>106.809998</td>\n",
       "      <td>44500000</td>\n",
       "      <td>108.949997</td>\n",
       "      <td>1</td>\n",
       "    </tr>\n",
       "    <tr>\n",
       "      <th>1980-01-08 00:00:00-05:00</th>\n",
       "      <td>0.000000</td>\n",
       "      <td>109.290001</td>\n",
       "      <td>106.290001</td>\n",
       "      <td>108.949997</td>\n",
       "      <td>53390000</td>\n",
       "      <td>109.050003</td>\n",
       "      <td>1</td>\n",
       "    </tr>\n",
       "    <tr>\n",
       "      <th>...</th>\n",
       "      <td>...</td>\n",
       "      <td>...</td>\n",
       "      <td>...</td>\n",
       "      <td>...</td>\n",
       "      <td>...</td>\n",
       "      <td>...</td>\n",
       "      <td>...</td>\n",
       "    </tr>\n",
       "    <tr>\n",
       "      <th>2023-09-13 00:00:00-04:00</th>\n",
       "      <td>4462.649902</td>\n",
       "      <td>4479.390137</td>\n",
       "      <td>4453.520020</td>\n",
       "      <td>4467.439941</td>\n",
       "      <td>3529430000</td>\n",
       "      <td>4505.100098</td>\n",
       "      <td>1</td>\n",
       "    </tr>\n",
       "    <tr>\n",
       "      <th>2023-09-14 00:00:00-04:00</th>\n",
       "      <td>4487.779785</td>\n",
       "      <td>4511.990234</td>\n",
       "      <td>4478.689941</td>\n",
       "      <td>4505.100098</td>\n",
       "      <td>3648720000</td>\n",
       "      <td>4450.319824</td>\n",
       "      <td>0</td>\n",
       "    </tr>\n",
       "    <tr>\n",
       "      <th>2023-09-15 00:00:00-04:00</th>\n",
       "      <td>4497.979980</td>\n",
       "      <td>4497.979980</td>\n",
       "      <td>4447.209961</td>\n",
       "      <td>4450.319824</td>\n",
       "      <td>6932230000</td>\n",
       "      <td>4453.529785</td>\n",
       "      <td>1</td>\n",
       "    </tr>\n",
       "    <tr>\n",
       "      <th>2023-09-18 00:00:00-04:00</th>\n",
       "      <td>4445.129883</td>\n",
       "      <td>4466.359863</td>\n",
       "      <td>4442.109863</td>\n",
       "      <td>4453.529785</td>\n",
       "      <td>3161230000</td>\n",
       "      <td>4443.950195</td>\n",
       "      <td>0</td>\n",
       "    </tr>\n",
       "    <tr>\n",
       "      <th>2023-09-19 00:00:00-04:00</th>\n",
       "      <td>4445.410156</td>\n",
       "      <td>4449.850098</td>\n",
       "      <td>4416.609863</td>\n",
       "      <td>4443.950195</td>\n",
       "      <td>3614880000</td>\n",
       "      <td>0.000000</td>\n",
       "      <td>0</td>\n",
       "    </tr>\n",
       "  </tbody>\n",
       "</table>\n",
       "<p>11022 rows × 7 columns</p>\n",
       "</div>"
      ],
      "text/plain": [
       "                                  Open         High          Low        Close  \\\n",
       "Date                                                                            \n",
       "1980-01-02 00:00:00-05:00     0.000000   108.430000   105.290001   105.760002   \n",
       "1980-01-03 00:00:00-05:00     0.000000   106.080002   103.260002   105.220001   \n",
       "1980-01-04 00:00:00-05:00     0.000000   107.080002   105.089996   106.519997   \n",
       "1980-01-07 00:00:00-05:00     0.000000   107.800003   105.800003   106.809998   \n",
       "1980-01-08 00:00:00-05:00     0.000000   109.290001   106.290001   108.949997   \n",
       "...                                ...          ...          ...          ...   \n",
       "2023-09-13 00:00:00-04:00  4462.649902  4479.390137  4453.520020  4467.439941   \n",
       "2023-09-14 00:00:00-04:00  4487.779785  4511.990234  4478.689941  4505.100098   \n",
       "2023-09-15 00:00:00-04:00  4497.979980  4497.979980  4447.209961  4450.319824   \n",
       "2023-09-18 00:00:00-04:00  4445.129883  4466.359863  4442.109863  4453.529785   \n",
       "2023-09-19 00:00:00-04:00  4445.410156  4449.850098  4416.609863  4443.950195   \n",
       "\n",
       "                               Volume  Tomorrow_close  Target  \n",
       "Date                                                           \n",
       "1980-01-02 00:00:00-05:00    40610000      105.220001       0  \n",
       "1980-01-03 00:00:00-05:00    50480000      106.519997       1  \n",
       "1980-01-04 00:00:00-05:00    39130000      106.809998       1  \n",
       "1980-01-07 00:00:00-05:00    44500000      108.949997       1  \n",
       "1980-01-08 00:00:00-05:00    53390000      109.050003       1  \n",
       "...                               ...             ...     ...  \n",
       "2023-09-13 00:00:00-04:00  3529430000     4505.100098       1  \n",
       "2023-09-14 00:00:00-04:00  3648720000     4450.319824       0  \n",
       "2023-09-15 00:00:00-04:00  6932230000     4453.529785       1  \n",
       "2023-09-18 00:00:00-04:00  3161230000     4443.950195       0  \n",
       "2023-09-19 00:00:00-04:00  3614880000        0.000000       0  \n",
       "\n",
       "[11022 rows x 7 columns]"
      ]
     },
     "execution_count": 7,
     "metadata": {},
     "output_type": "execute_result"
    }
   ],
   "source": [
    "dataset"
   ]
  },
  {
   "cell_type": "markdown",
   "id": "d2835286",
   "metadata": {},
   "source": [
    "# Data spliting"
   ]
  },
  {
   "cell_type": "code",
   "execution_count": 8,
   "id": "ee1871cc",
   "metadata": {},
   "outputs": [],
   "source": [
    "train_data = dataset.iloc[:-250]\n",
    "test_data = dataset.iloc[-250:]"
   ]
  },
  {
   "cell_type": "markdown",
   "id": "23f28e92",
   "metadata": {},
   "source": [
    "# Data scaling"
   ]
  },
  {
   "cell_type": "code",
   "execution_count": 9,
   "id": "760e09a3",
   "metadata": {},
   "outputs": [],
   "source": [
    "from sklearn.preprocessing import StandardScaler\n",
    "scaler = StandardScaler()\n",
    "\n",
    "train_feature_scale = scaler.fit_transform(train_data[['Open','High','Low','Close','Volume']])\n",
    "test_feature_scale = scaler.transform(test_data[['Open','High','Low','Close','Volume']])"
   ]
  },
  {
   "cell_type": "markdown",
   "id": "4afd53ba",
   "metadata": {},
   "source": [
    "# Model training"
   ]
  },
  {
   "cell_type": "markdown",
   "id": "54d42f32",
   "metadata": {},
   "source": [
    "Training and accuracy checking with Random Forest Classifer"
   ]
  },
  {
   "cell_type": "code",
   "execution_count": 10,
   "id": "6c2274fb",
   "metadata": {},
   "outputs": [
    {
     "data": {
      "text/html": [
       "<style>#sk-container-id-1 {color: black;background-color: white;}#sk-container-id-1 pre{padding: 0;}#sk-container-id-1 div.sk-toggleable {background-color: white;}#sk-container-id-1 label.sk-toggleable__label {cursor: pointer;display: block;width: 100%;margin-bottom: 0;padding: 0.3em;box-sizing: border-box;text-align: center;}#sk-container-id-1 label.sk-toggleable__label-arrow:before {content: \"▸\";float: left;margin-right: 0.25em;color: #696969;}#sk-container-id-1 label.sk-toggleable__label-arrow:hover:before {color: black;}#sk-container-id-1 div.sk-estimator:hover label.sk-toggleable__label-arrow:before {color: black;}#sk-container-id-1 div.sk-toggleable__content {max-height: 0;max-width: 0;overflow: hidden;text-align: left;background-color: #f0f8ff;}#sk-container-id-1 div.sk-toggleable__content pre {margin: 0.2em;color: black;border-radius: 0.25em;background-color: #f0f8ff;}#sk-container-id-1 input.sk-toggleable__control:checked~div.sk-toggleable__content {max-height: 200px;max-width: 100%;overflow: auto;}#sk-container-id-1 input.sk-toggleable__control:checked~label.sk-toggleable__label-arrow:before {content: \"▾\";}#sk-container-id-1 div.sk-estimator input.sk-toggleable__control:checked~label.sk-toggleable__label {background-color: #d4ebff;}#sk-container-id-1 div.sk-label input.sk-toggleable__control:checked~label.sk-toggleable__label {background-color: #d4ebff;}#sk-container-id-1 input.sk-hidden--visually {border: 0;clip: rect(1px 1px 1px 1px);clip: rect(1px, 1px, 1px, 1px);height: 1px;margin: -1px;overflow: hidden;padding: 0;position: absolute;width: 1px;}#sk-container-id-1 div.sk-estimator {font-family: monospace;background-color: #f0f8ff;border: 1px dotted black;border-radius: 0.25em;box-sizing: border-box;margin-bottom: 0.5em;}#sk-container-id-1 div.sk-estimator:hover {background-color: #d4ebff;}#sk-container-id-1 div.sk-parallel-item::after {content: \"\";width: 100%;border-bottom: 1px solid gray;flex-grow: 1;}#sk-container-id-1 div.sk-label:hover label.sk-toggleable__label {background-color: #d4ebff;}#sk-container-id-1 div.sk-serial::before {content: \"\";position: absolute;border-left: 1px solid gray;box-sizing: border-box;top: 0;bottom: 0;left: 50%;z-index: 0;}#sk-container-id-1 div.sk-serial {display: flex;flex-direction: column;align-items: center;background-color: white;padding-right: 0.2em;padding-left: 0.2em;position: relative;}#sk-container-id-1 div.sk-item {position: relative;z-index: 1;}#sk-container-id-1 div.sk-parallel {display: flex;align-items: stretch;justify-content: center;background-color: white;position: relative;}#sk-container-id-1 div.sk-item::before, #sk-container-id-1 div.sk-parallel-item::before {content: \"\";position: absolute;border-left: 1px solid gray;box-sizing: border-box;top: 0;bottom: 0;left: 50%;z-index: -1;}#sk-container-id-1 div.sk-parallel-item {display: flex;flex-direction: column;z-index: 1;position: relative;background-color: white;}#sk-container-id-1 div.sk-parallel-item:first-child::after {align-self: flex-end;width: 50%;}#sk-container-id-1 div.sk-parallel-item:last-child::after {align-self: flex-start;width: 50%;}#sk-container-id-1 div.sk-parallel-item:only-child::after {width: 0;}#sk-container-id-1 div.sk-dashed-wrapped {border: 1px dashed gray;margin: 0 0.4em 0.5em 0.4em;box-sizing: border-box;padding-bottom: 0.4em;background-color: white;}#sk-container-id-1 div.sk-label label {font-family: monospace;font-weight: bold;display: inline-block;line-height: 1.2em;}#sk-container-id-1 div.sk-label-container {text-align: center;}#sk-container-id-1 div.sk-container {/* jupyter's `normalize.less` sets `[hidden] { display: none; }` but bootstrap.min.css set `[hidden] { display: none !important; }` so we also need the `!important` here to be able to override the default hidden behavior on the sphinx rendered scikit-learn.org. See: https://github.com/scikit-learn/scikit-learn/issues/21755 */display: inline-block !important;position: relative;}#sk-container-id-1 div.sk-text-repr-fallback {display: none;}</style><div id=\"sk-container-id-1\" class=\"sk-top-container\"><div class=\"sk-text-repr-fallback\"><pre>RandomForestClassifier(min_samples_split=100, random_state=1)</pre><b>In a Jupyter environment, please rerun this cell to show the HTML representation or trust the notebook. <br />On GitHub, the HTML representation is unable to render, please try loading this page with nbviewer.org.</b></div><div class=\"sk-container\" hidden><div class=\"sk-item\"><div class=\"sk-estimator sk-toggleable\"><input class=\"sk-toggleable__control sk-hidden--visually\" id=\"sk-estimator-id-1\" type=\"checkbox\" checked><label for=\"sk-estimator-id-1\" class=\"sk-toggleable__label sk-toggleable__label-arrow\">RandomForestClassifier</label><div class=\"sk-toggleable__content\"><pre>RandomForestClassifier(min_samples_split=100, random_state=1)</pre></div></div></div></div></div>"
      ],
      "text/plain": [
       "RandomForestClassifier(min_samples_split=100, random_state=1)"
      ]
     },
     "execution_count": 10,
     "metadata": {},
     "output_type": "execute_result"
    }
   ],
   "source": [
    "from sklearn.ensemble import RandomForestClassifier\n",
    "\n",
    "model = RandomForestClassifier(n_estimators=100, min_samples_split=100, random_state=1)\n",
    "feature = ['Open','High','Low','Close','Volume']\n",
    "lebel = 'Target'\n",
    "model.fit(train_data[feature], train_data[lebel])"
   ]
  },
  {
   "cell_type": "code",
   "execution_count": 11,
   "id": "b0dcd723",
   "metadata": {},
   "outputs": [
    {
     "name": "stdout",
     "output_type": "stream",
     "text": [
      "Model : Random Forest\n",
      "F1_score - 0.5745454545454546\n",
      "Accuracy_score - 0.532\n"
     ]
    }
   ],
   "source": [
    "from sklearn.metrics import f1_score\n",
    "from sklearn.metrics import accuracy_score\n",
    "\n",
    "test_pred = model.predict(test_data[feature])\n",
    "test_lebel = test_data['Target'].values         #convert to numpy array\n",
    "\n",
    "f1 = f1_score(test_lebel, test_pred)\n",
    "accuracy = accuracy_score(test_lebel, test_pred)\n",
    "print('Model : Random Forest')\n",
    "print('F1_score -',f1)\n",
    "print('Accuracy_score -',accuracy)"
   ]
  },
  {
   "cell_type": "markdown",
   "id": "de4ba715",
   "metadata": {},
   "source": [
    "Training and accuracy checking with SVM Classifer"
   ]
  },
  {
   "cell_type": "code",
   "execution_count": 12,
   "id": "33ed1314",
   "metadata": {},
   "outputs": [
    {
     "data": {
      "text/html": [
       "<style>#sk-container-id-2 {color: black;background-color: white;}#sk-container-id-2 pre{padding: 0;}#sk-container-id-2 div.sk-toggleable {background-color: white;}#sk-container-id-2 label.sk-toggleable__label {cursor: pointer;display: block;width: 100%;margin-bottom: 0;padding: 0.3em;box-sizing: border-box;text-align: center;}#sk-container-id-2 label.sk-toggleable__label-arrow:before {content: \"▸\";float: left;margin-right: 0.25em;color: #696969;}#sk-container-id-2 label.sk-toggleable__label-arrow:hover:before {color: black;}#sk-container-id-2 div.sk-estimator:hover label.sk-toggleable__label-arrow:before {color: black;}#sk-container-id-2 div.sk-toggleable__content {max-height: 0;max-width: 0;overflow: hidden;text-align: left;background-color: #f0f8ff;}#sk-container-id-2 div.sk-toggleable__content pre {margin: 0.2em;color: black;border-radius: 0.25em;background-color: #f0f8ff;}#sk-container-id-2 input.sk-toggleable__control:checked~div.sk-toggleable__content {max-height: 200px;max-width: 100%;overflow: auto;}#sk-container-id-2 input.sk-toggleable__control:checked~label.sk-toggleable__label-arrow:before {content: \"▾\";}#sk-container-id-2 div.sk-estimator input.sk-toggleable__control:checked~label.sk-toggleable__label {background-color: #d4ebff;}#sk-container-id-2 div.sk-label input.sk-toggleable__control:checked~label.sk-toggleable__label {background-color: #d4ebff;}#sk-container-id-2 input.sk-hidden--visually {border: 0;clip: rect(1px 1px 1px 1px);clip: rect(1px, 1px, 1px, 1px);height: 1px;margin: -1px;overflow: hidden;padding: 0;position: absolute;width: 1px;}#sk-container-id-2 div.sk-estimator {font-family: monospace;background-color: #f0f8ff;border: 1px dotted black;border-radius: 0.25em;box-sizing: border-box;margin-bottom: 0.5em;}#sk-container-id-2 div.sk-estimator:hover {background-color: #d4ebff;}#sk-container-id-2 div.sk-parallel-item::after {content: \"\";width: 100%;border-bottom: 1px solid gray;flex-grow: 1;}#sk-container-id-2 div.sk-label:hover label.sk-toggleable__label {background-color: #d4ebff;}#sk-container-id-2 div.sk-serial::before {content: \"\";position: absolute;border-left: 1px solid gray;box-sizing: border-box;top: 0;bottom: 0;left: 50%;z-index: 0;}#sk-container-id-2 div.sk-serial {display: flex;flex-direction: column;align-items: center;background-color: white;padding-right: 0.2em;padding-left: 0.2em;position: relative;}#sk-container-id-2 div.sk-item {position: relative;z-index: 1;}#sk-container-id-2 div.sk-parallel {display: flex;align-items: stretch;justify-content: center;background-color: white;position: relative;}#sk-container-id-2 div.sk-item::before, #sk-container-id-2 div.sk-parallel-item::before {content: \"\";position: absolute;border-left: 1px solid gray;box-sizing: border-box;top: 0;bottom: 0;left: 50%;z-index: -1;}#sk-container-id-2 div.sk-parallel-item {display: flex;flex-direction: column;z-index: 1;position: relative;background-color: white;}#sk-container-id-2 div.sk-parallel-item:first-child::after {align-self: flex-end;width: 50%;}#sk-container-id-2 div.sk-parallel-item:last-child::after {align-self: flex-start;width: 50%;}#sk-container-id-2 div.sk-parallel-item:only-child::after {width: 0;}#sk-container-id-2 div.sk-dashed-wrapped {border: 1px dashed gray;margin: 0 0.4em 0.5em 0.4em;box-sizing: border-box;padding-bottom: 0.4em;background-color: white;}#sk-container-id-2 div.sk-label label {font-family: monospace;font-weight: bold;display: inline-block;line-height: 1.2em;}#sk-container-id-2 div.sk-label-container {text-align: center;}#sk-container-id-2 div.sk-container {/* jupyter's `normalize.less` sets `[hidden] { display: none; }` but bootstrap.min.css set `[hidden] { display: none !important; }` so we also need the `!important` here to be able to override the default hidden behavior on the sphinx rendered scikit-learn.org. See: https://github.com/scikit-learn/scikit-learn/issues/21755 */display: inline-block !important;position: relative;}#sk-container-id-2 div.sk-text-repr-fallback {display: none;}</style><div id=\"sk-container-id-2\" class=\"sk-top-container\"><div class=\"sk-text-repr-fallback\"><pre>SVC(C=15)</pre><b>In a Jupyter environment, please rerun this cell to show the HTML representation or trust the notebook. <br />On GitHub, the HTML representation is unable to render, please try loading this page with nbviewer.org.</b></div><div class=\"sk-container\" hidden><div class=\"sk-item\"><div class=\"sk-estimator sk-toggleable\"><input class=\"sk-toggleable__control sk-hidden--visually\" id=\"sk-estimator-id-2\" type=\"checkbox\" checked><label for=\"sk-estimator-id-2\" class=\"sk-toggleable__label sk-toggleable__label-arrow\">SVC</label><div class=\"sk-toggleable__content\"><pre>SVC(C=15)</pre></div></div></div></div></div>"
      ],
      "text/plain": [
       "SVC(C=15)"
      ]
     },
     "execution_count": 12,
     "metadata": {},
     "output_type": "execute_result"
    }
   ],
   "source": [
    "from sklearn.svm import SVC\n",
    "\n",
    "model_svm = SVC(kernel='rbf', C=15)\n",
    "model_svm.fit(train_feature_scale, train_data[lebel])"
   ]
  },
  {
   "cell_type": "code",
   "execution_count": 13,
   "id": "d880e88f",
   "metadata": {},
   "outputs": [
    {
     "name": "stdout",
     "output_type": "stream",
     "text": [
      "Model : Support Vector Machine\n",
      "F1 score - 0.6521739130434783\n",
      "Accuracy score - 0.488\n"
     ]
    }
   ],
   "source": [
    "test_pred = model_svm.predict(test_feature_scale)\n",
    "\n",
    "f1_svm = f1_score(test_lebel, test_pred)\n",
    "accuracy_svm = accuracy_score(test_lebel, test_pred)\n",
    "print('Model : Support Vector Machine')\n",
    "print('F1 score -',f1_svm)\n",
    "print('Accuracy score -',accuracy_svm)"
   ]
  },
  {
   "cell_type": "markdown",
   "id": "96c6d178",
   "metadata": {},
   "source": [
    "Training and accuracy checking with Logistic Regression "
   ]
  },
  {
   "cell_type": "code",
   "execution_count": 14,
   "id": "2d416943",
   "metadata": {},
   "outputs": [
    {
     "data": {
      "text/html": [
       "<style>#sk-container-id-3 {color: black;background-color: white;}#sk-container-id-3 pre{padding: 0;}#sk-container-id-3 div.sk-toggleable {background-color: white;}#sk-container-id-3 label.sk-toggleable__label {cursor: pointer;display: block;width: 100%;margin-bottom: 0;padding: 0.3em;box-sizing: border-box;text-align: center;}#sk-container-id-3 label.sk-toggleable__label-arrow:before {content: \"▸\";float: left;margin-right: 0.25em;color: #696969;}#sk-container-id-3 label.sk-toggleable__label-arrow:hover:before {color: black;}#sk-container-id-3 div.sk-estimator:hover label.sk-toggleable__label-arrow:before {color: black;}#sk-container-id-3 div.sk-toggleable__content {max-height: 0;max-width: 0;overflow: hidden;text-align: left;background-color: #f0f8ff;}#sk-container-id-3 div.sk-toggleable__content pre {margin: 0.2em;color: black;border-radius: 0.25em;background-color: #f0f8ff;}#sk-container-id-3 input.sk-toggleable__control:checked~div.sk-toggleable__content {max-height: 200px;max-width: 100%;overflow: auto;}#sk-container-id-3 input.sk-toggleable__control:checked~label.sk-toggleable__label-arrow:before {content: \"▾\";}#sk-container-id-3 div.sk-estimator input.sk-toggleable__control:checked~label.sk-toggleable__label {background-color: #d4ebff;}#sk-container-id-3 div.sk-label input.sk-toggleable__control:checked~label.sk-toggleable__label {background-color: #d4ebff;}#sk-container-id-3 input.sk-hidden--visually {border: 0;clip: rect(1px 1px 1px 1px);clip: rect(1px, 1px, 1px, 1px);height: 1px;margin: -1px;overflow: hidden;padding: 0;position: absolute;width: 1px;}#sk-container-id-3 div.sk-estimator {font-family: monospace;background-color: #f0f8ff;border: 1px dotted black;border-radius: 0.25em;box-sizing: border-box;margin-bottom: 0.5em;}#sk-container-id-3 div.sk-estimator:hover {background-color: #d4ebff;}#sk-container-id-3 div.sk-parallel-item::after {content: \"\";width: 100%;border-bottom: 1px solid gray;flex-grow: 1;}#sk-container-id-3 div.sk-label:hover label.sk-toggleable__label {background-color: #d4ebff;}#sk-container-id-3 div.sk-serial::before {content: \"\";position: absolute;border-left: 1px solid gray;box-sizing: border-box;top: 0;bottom: 0;left: 50%;z-index: 0;}#sk-container-id-3 div.sk-serial {display: flex;flex-direction: column;align-items: center;background-color: white;padding-right: 0.2em;padding-left: 0.2em;position: relative;}#sk-container-id-3 div.sk-item {position: relative;z-index: 1;}#sk-container-id-3 div.sk-parallel {display: flex;align-items: stretch;justify-content: center;background-color: white;position: relative;}#sk-container-id-3 div.sk-item::before, #sk-container-id-3 div.sk-parallel-item::before {content: \"\";position: absolute;border-left: 1px solid gray;box-sizing: border-box;top: 0;bottom: 0;left: 50%;z-index: -1;}#sk-container-id-3 div.sk-parallel-item {display: flex;flex-direction: column;z-index: 1;position: relative;background-color: white;}#sk-container-id-3 div.sk-parallel-item:first-child::after {align-self: flex-end;width: 50%;}#sk-container-id-3 div.sk-parallel-item:last-child::after {align-self: flex-start;width: 50%;}#sk-container-id-3 div.sk-parallel-item:only-child::after {width: 0;}#sk-container-id-3 div.sk-dashed-wrapped {border: 1px dashed gray;margin: 0 0.4em 0.5em 0.4em;box-sizing: border-box;padding-bottom: 0.4em;background-color: white;}#sk-container-id-3 div.sk-label label {font-family: monospace;font-weight: bold;display: inline-block;line-height: 1.2em;}#sk-container-id-3 div.sk-label-container {text-align: center;}#sk-container-id-3 div.sk-container {/* jupyter's `normalize.less` sets `[hidden] { display: none; }` but bootstrap.min.css set `[hidden] { display: none !important; }` so we also need the `!important` here to be able to override the default hidden behavior on the sphinx rendered scikit-learn.org. See: https://github.com/scikit-learn/scikit-learn/issues/21755 */display: inline-block !important;position: relative;}#sk-container-id-3 div.sk-text-repr-fallback {display: none;}</style><div id=\"sk-container-id-3\" class=\"sk-top-container\"><div class=\"sk-text-repr-fallback\"><pre>LogisticRegression()</pre><b>In a Jupyter environment, please rerun this cell to show the HTML representation or trust the notebook. <br />On GitHub, the HTML representation is unable to render, please try loading this page with nbviewer.org.</b></div><div class=\"sk-container\" hidden><div class=\"sk-item\"><div class=\"sk-estimator sk-toggleable\"><input class=\"sk-toggleable__control sk-hidden--visually\" id=\"sk-estimator-id-3\" type=\"checkbox\" checked><label for=\"sk-estimator-id-3\" class=\"sk-toggleable__label sk-toggleable__label-arrow\">LogisticRegression</label><div class=\"sk-toggleable__content\"><pre>LogisticRegression()</pre></div></div></div></div></div>"
      ],
      "text/plain": [
       "LogisticRegression()"
      ]
     },
     "execution_count": 14,
     "metadata": {},
     "output_type": "execute_result"
    }
   ],
   "source": [
    "from sklearn.linear_model import LogisticRegression\n",
    "\n",
    "model_logistic = LogisticRegression()\n",
    "model_logistic.fit(train_data[feature], train_data[lebel])"
   ]
  },
  {
   "cell_type": "code",
   "execution_count": 15,
   "id": "a6d01b82",
   "metadata": {},
   "outputs": [
    {
     "name": "stdout",
     "output_type": "stream",
     "text": [
      "Model : Logistic Regression \n",
      "F1 score - 0.6522911051212937\n",
      "Accuracy score - 0.484\n"
     ]
    }
   ],
   "source": [
    "test_pred = model_logistic.predict(test_data[feature])\n",
    "\n",
    "f1_logistic = f1_score(test_lebel, test_pred)\n",
    "accuracy_logistic = accuracy_score(test_lebel, test_pred)\n",
    "print('Model : Logistic Regression ')\n",
    "print('F1 score -',f1_logistic)\n",
    "print('Accuracy score -',accuracy_logistic)"
   ]
  },
  {
   "cell_type": "markdown",
   "id": "a39dd5cf",
   "metadata": {},
   "source": [
    "# Back Testing part"
   ]
  },
  {
   "cell_type": "code",
   "execution_count": 16,
   "id": "610df28e",
   "metadata": {},
   "outputs": [],
   "source": [
    "#back_testing\n",
    "all_predictions = []\n",
    "past_days = 2500             #10 years of previous data\n",
    "next_days = 250              #next year after that 10 yaers\n",
    "\n",
    "for i in range(past_days, row_num, next_days):\n",
    "    train = dataset.iloc[0:i].copy()\n",
    "    test = dataset.iloc[i:(i+next_days)].copy()\n",
    "    model.fit(train[feature], train[lebel])\n",
    "    prediction = model.predict(test[feature])\n",
    "    prediction = pd.Series(prediction, index=test.index, name=\"Predictions\")\n",
    "    prediction_df = pd.concat([test[\"Target\"], prediction], axis=1)\n",
    "    all_predictions.append(prediction_df)\n",
    "\n",
    "all_predictions_df = pd.concat(all_predictions)"
   ]
  },
  {
   "cell_type": "code",
   "execution_count": 17,
   "id": "a3d25800",
   "metadata": {},
   "outputs": [
    {
     "data": {
      "text/html": [
       "<div>\n",
       "<style scoped>\n",
       "    .dataframe tbody tr th:only-of-type {\n",
       "        vertical-align: middle;\n",
       "    }\n",
       "\n",
       "    .dataframe tbody tr th {\n",
       "        vertical-align: top;\n",
       "    }\n",
       "\n",
       "    .dataframe thead th {\n",
       "        text-align: right;\n",
       "    }\n",
       "</style>\n",
       "<table border=\"1\" class=\"dataframe\">\n",
       "  <thead>\n",
       "    <tr style=\"text-align: right;\">\n",
       "      <th></th>\n",
       "      <th>Target</th>\n",
       "      <th>Predictions</th>\n",
       "    </tr>\n",
       "    <tr>\n",
       "      <th>Date</th>\n",
       "      <th></th>\n",
       "      <th></th>\n",
       "    </tr>\n",
       "  </thead>\n",
       "  <tbody>\n",
       "    <tr>\n",
       "      <th>1989-11-20 00:00:00-05:00</th>\n",
       "      <td>1</td>\n",
       "      <td>1</td>\n",
       "    </tr>\n",
       "    <tr>\n",
       "      <th>1989-11-21 00:00:00-05:00</th>\n",
       "      <td>1</td>\n",
       "      <td>1</td>\n",
       "    </tr>\n",
       "    <tr>\n",
       "      <th>1989-11-22 00:00:00-05:00</th>\n",
       "      <td>1</td>\n",
       "      <td>1</td>\n",
       "    </tr>\n",
       "    <tr>\n",
       "      <th>1989-11-24 00:00:00-05:00</th>\n",
       "      <td>1</td>\n",
       "      <td>1</td>\n",
       "    </tr>\n",
       "    <tr>\n",
       "      <th>1989-11-27 00:00:00-05:00</th>\n",
       "      <td>1</td>\n",
       "      <td>0</td>\n",
       "    </tr>\n",
       "    <tr>\n",
       "      <th>...</th>\n",
       "      <td>...</td>\n",
       "      <td>...</td>\n",
       "    </tr>\n",
       "    <tr>\n",
       "      <th>2023-09-13 00:00:00-04:00</th>\n",
       "      <td>1</td>\n",
       "      <td>1</td>\n",
       "    </tr>\n",
       "    <tr>\n",
       "      <th>2023-09-14 00:00:00-04:00</th>\n",
       "      <td>0</td>\n",
       "      <td>1</td>\n",
       "    </tr>\n",
       "    <tr>\n",
       "      <th>2023-09-15 00:00:00-04:00</th>\n",
       "      <td>1</td>\n",
       "      <td>0</td>\n",
       "    </tr>\n",
       "    <tr>\n",
       "      <th>2023-09-18 00:00:00-04:00</th>\n",
       "      <td>0</td>\n",
       "      <td>0</td>\n",
       "    </tr>\n",
       "    <tr>\n",
       "      <th>2023-09-19 00:00:00-04:00</th>\n",
       "      <td>0</td>\n",
       "      <td>1</td>\n",
       "    </tr>\n",
       "  </tbody>\n",
       "</table>\n",
       "<p>8522 rows × 2 columns</p>\n",
       "</div>"
      ],
      "text/plain": [
       "                           Target  Predictions\n",
       "Date                                          \n",
       "1989-11-20 00:00:00-05:00       1            1\n",
       "1989-11-21 00:00:00-05:00       1            1\n",
       "1989-11-22 00:00:00-05:00       1            1\n",
       "1989-11-24 00:00:00-05:00       1            1\n",
       "1989-11-27 00:00:00-05:00       1            0\n",
       "...                           ...          ...\n",
       "2023-09-13 00:00:00-04:00       1            1\n",
       "2023-09-14 00:00:00-04:00       0            1\n",
       "2023-09-15 00:00:00-04:00       1            0\n",
       "2023-09-18 00:00:00-04:00       0            0\n",
       "2023-09-19 00:00:00-04:00       0            1\n",
       "\n",
       "[8522 rows x 2 columns]"
      ]
     },
     "execution_count": 17,
     "metadata": {},
     "output_type": "execute_result"
    }
   ],
   "source": [
    "all_predictions_df"
   ]
  },
  {
   "cell_type": "code",
   "execution_count": 18,
   "id": "4c4dd131",
   "metadata": {},
   "outputs": [
    {
     "name": "stdout",
     "output_type": "stream",
     "text": [
      "Back Testing F1 score - 0.4344666493641319\n"
     ]
    }
   ],
   "source": [
    "f1_bt = f1_score(all_predictions_df['Target'],all_predictions_df['Predictions'])\n",
    "print('Back Testing F1 score -',f1_bt)"
   ]
  },
  {
   "cell_type": "code",
   "execution_count": null,
   "id": "2618274f",
   "metadata": {},
   "outputs": [],
   "source": []
  }
 ],
 "metadata": {
  "kernelspec": {
   "display_name": "Python 3 (ipykernel)",
   "language": "python",
   "name": "python3"
  },
  "language_info": {
   "codemirror_mode": {
    "name": "ipython",
    "version": 3
   },
   "file_extension": ".py",
   "mimetype": "text/x-python",
   "name": "python",
   "nbconvert_exporter": "python",
   "pygments_lexer": "ipython3",
   "version": "3.10.9"
  }
 },
 "nbformat": 4,
 "nbformat_minor": 5
}
